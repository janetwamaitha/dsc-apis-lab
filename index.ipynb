{
 "cells": [
  {
   "cell_type": "markdown",
   "metadata": {},
   "source": [
    "# APIs - Cumulative Lab\n",
    "\n",
    "\n",
    "## Introduction \n",
    "\n",
    "We've seen how the Yelp API works and how to create basic visualizations using Folium. It's time to put those skills to work in order to create a working map! Taking things a step further, you'll also independently explore how to perform pagination in order to retrieve a full results set from the Yelp API.\n",
    "\n",
    "## Objectives\n",
    "\n",
    "You will be able to: \n",
    "\n",
    "* Practice using functions to organize your code\n",
    "* Use pagination to retrieve all results from an API query\n",
    "* Practice parsing data returned from an API query\n",
    "* Practice interpreting visualizations of a dataset\n",
    "* Create maps using Folium"
   ]
  },
  {
   "cell_type": "markdown",
   "metadata": {},
   "source": [
    "## Your Task: Query Yelp for All Businesses in a Category and Analyze the Results\n",
    "\n",
    "![restaurant counter with pizza](images/restaurant_counter.jpg)\n",
    "\n",
    "Photo by <a href=\"https://unsplash.com/@jordanmadrid?utm_source=unsplash&utm_medium=referral&utm_content=creditCopyText\">Jordan Madrid</a> on <a href=\"/s/photos/pizza-restaurant?utm_source=unsplash&utm_medium=referral&utm_content=creditCopyText\">Unsplash</a>"
   ]
  },
  {
   "cell_type": "markdown",
   "metadata": {},
   "source": [
    "### Overview\n",
    "\n",
    "You've now worked with some API calls, but we have yet to see how to retrieve a more complete dataset in a programmatic manner. In this lab, you will write a query of businesses on Yelp, then use *pagination* to retrieve all possible results for that query. Then you will create a summary of your findings, including a Folium map of the geographic locations of those businesses.\n",
    "\n",
    "### Technical Details\n",
    "\n",
    "Returning to the Yelp API, the [documentation](https://www.yelp.com/developers/documentation/v3/business_search) also provides us details regarding the **API limits**. These often include details about the number of requests a user is allowed to make within a specified time limit and the maximum number of results to be returned. In this case, we are told that any request has a **maximum of 50 results per request** and defaults to 20. Furthermore, any search will be limited to a **total of 1000 results**. To retrieve all 1000 of these results, we would have to page through the results piece by piece, retrieving 50 at a time. Processes such as these are often referred to as pagination.\n",
    "\n",
    "Also, be mindful of the **API** ***rate*** **limits**. You can only make **5000 requests per day** and are also can make requests too fast. Start prototyping small before running a loop that could be faulty. You can also use `time.sleep(n)` to add delays. For more details see https://www.yelp.com/developers/documentation/v3/rate_limiting.\n",
    "\n",
    "In this lab, you will define a search and then paginate over the results to retrieve all of the results. You'll then parse these responses as a list of dictionaries (for further exploration) and create a map using Folium to visualize the results geographically.\n",
    "\n",
    "### Requirements\n",
    "\n",
    "#### 1. Make the Initial Request\n",
    "\n",
    "Start by filling in your API key to make the initial request to the business search API. Investigate the structure of the response you get back and start figuring out how you will extract the relevant information.\n",
    "\n",
    "#### 2. Add Pagination\n",
    "\n",
    "Using loops and functions, collect the maximum number of results for your query from the API.\n",
    "\n",
    "#### 3. Perform Exploratory Analysis\n",
    "\n",
    "Interpret visualizations related to the price range, average rating, and number of reviews for all query results.\n",
    "\n",
    "#### 4. Create a Folium Map\n",
    "\n",
    "Using latitude and longitude data, plot the query results on an interactive map."
   ]
  },
  {
   "cell_type": "markdown",
   "metadata": {},
   "source": [
    "## 1. Make the Initial Request\n",
    "\n",
    "### Querying\n",
    "\n",
    "Start by making an initial request to the Yelp API. Your search must include at least 2 parameters: **term** and **location**. For example, you might search for pizza restaurants in NYC. The term and location is up to you but make the request below.\n",
    "\n",
    "Use the `requests` library ([documentation here](https://requests.readthedocs.io/en/master/user/quickstart/#make-a-request)).\n",
    "\n",
    "You'll also need an API key from Yelp. If you haven't done this already, go to the Yelp [Manage App page](https://www.yelp.com/developers/v3/manage_app) and create a new app (after making an account if you haven't already)."
   ]
  },
  {
   "cell_type": "code",
   "execution_count": 1,
   "metadata": {},
   "outputs": [
    {
     "data": {
      "text/plain": [
       "<Response [200]>"
      ]
     },
     "execution_count": 1,
     "metadata": {},
     "output_type": "execute_result"
    }
   ],
   "source": [
    "# Replace None with appropriate code\n",
    "\n",
    "# Import the requests library\n",
    "import requests\n",
    "\n",
    "# Get this from the \"Manage App\" page. Make sure you set them\n",
    "# back to None before pushing this to GitHub, since otherwise\n",
    "# your credentials will be compromised\n",
    "api_key = None\n",
    "\n",
    "# These can be whatever you want! But the solution uses \"pizza\"\n",
    "# and \"New York NY\" if you want to compare your work directly\n",
    "term = \"pizza\"\n",
    "location = \"New York NY\"\n",
    "\n",
    "# Set up params for request\n",
    "url = \"https://api.yelp.com/v3/businesses/search\"\n",
    "headers = {\n",
    "    \"Authorization\": \"Bearer {}\".format(api_key)\n",
    "}\n",
    "url_params = {\n",
    "    \"term\": term.replace(\" \", \"+\"),\n",
    "    \"location\": location.replace(\" \", \"+\")\n",
    "}\n",
    "\n",
    "# Make the request using requests.get, passing in\n",
    "# url, headers=headers, and params=url_params\n",
    "response = requests.get(url, headers=headers, params=url_params)\n",
    "\n",
    "# Confirm we got a 200 response\n",
    "response"
   ]
  },
  {
   "cell_type": "code",
   "execution_count": 2,
   "metadata": {},
   "outputs": [
    {
     "data": {
      "text/plain": [
       "dict_keys(['businesses', 'total', 'region'])"
      ]
     },
     "execution_count": 2,
     "metadata": {},
     "output_type": "execute_result"
    }
   ],
   "source": [
    "# Run this cell without changes\n",
    "\n",
    "# Get the response body in JSON format\n",
    "response_json = response.json()\n",
    "# View the keys\n",
    "response_json.keys()"
   ]
  },
  {
   "cell_type": "markdown",
   "metadata": {},
   "source": [
    "### Extracting Data\n",
    "\n",
    "Now, retrieve the value associated with the `'businesses'` key, and inspect its contents."
   ]
  },
  {
   "cell_type": "code",
   "execution_count": 16,
   "metadata": {},
   "outputs": [
    {
     "data": {
      "text/plain": [
       "[{'id': 'zj8Lq1T8KIC5zwFief15jg',\n",
       "  'alias': 'prince-street-pizza-new-york-2',\n",
       "  'name': 'Prince Street Pizza',\n",
       "  'image_url': 'https://s3-media3.fl.yelpcdn.com/bphoto/ZAukOyv530w4KjOHC5YY1w/o.jpg',\n",
       "  'is_closed': False,\n",
       "  'url': 'https://www.yelp.com/biz/prince-street-pizza-new-york-2?adjust_creative=FeecTMOppcgoKhbqArjagg&utm_campaign=yelp_api_v3&utm_medium=api_v3_business_search&utm_source=FeecTMOppcgoKhbqArjagg',\n",
       "  'review_count': 4300,\n",
       "  'categories': [{'alias': 'pizza', 'title': 'Pizza'},\n",
       "   {'alias': 'italian', 'title': 'Italian'}],\n",
       "  'rating': 4.5,\n",
       "  'coordinates': {'latitude': 40.72308755605564,\n",
       "   'longitude': -73.99453001177575},\n",
       "  'transactions': ['pickup', 'delivery'],\n",
       "  'price': '$',\n",
       "  'location': {'address1': '27 Prince St',\n",
       "   'address2': None,\n",
       "   'address3': '',\n",
       "   'city': 'New York',\n",
       "   'zip_code': '10012',\n",
       "   'country': 'US',\n",
       "   'state': 'NY',\n",
       "   'display_address': ['27 Prince St', 'New York, NY 10012']},\n",
       "  'phone': '+12129664100',\n",
       "  'display_phone': '(212) 966-4100',\n",
       "  'distance': 1961.8771417367063},\n",
       " {'id': 'ysqgdbSrezXgVwER2kQWKA',\n",
       "  'alias': 'julianas-brooklyn-3',\n",
       "  'name': \"Juliana's\",\n",
       "  'image_url': 'https://s3-media2.fl.yelpcdn.com/bphoto/clscwgOF9_Ecq-Rwsq7jyQ/o.jpg',\n",
       "  'is_closed': False,\n",
       "  'url': 'https://www.yelp.com/biz/julianas-brooklyn-3?adjust_creative=FeecTMOppcgoKhbqArjagg&utm_campaign=yelp_api_v3&utm_medium=api_v3_business_search&utm_source=FeecTMOppcgoKhbqArjagg',\n",
       "  'review_count': 2431,\n",
       "  'categories': [{'alias': 'pizza', 'title': 'Pizza'}],\n",
       "  'rating': 4.5,\n",
       "  'coordinates': {'latitude': 40.70274718768062,\n",
       "   'longitude': -73.99343490196397},\n",
       "  'transactions': ['delivery'],\n",
       "  'price': '$$',\n",
       "  'location': {'address1': '19 Old Fulton St',\n",
       "   'address2': '',\n",
       "   'address3': '',\n",
       "   'city': 'Brooklyn',\n",
       "   'zip_code': '11201',\n",
       "   'country': 'US',\n",
       "   'state': 'NY',\n",
       "   'display_address': ['19 Old Fulton St', 'Brooklyn, NY 11201']},\n",
       "  'phone': '+17185966700',\n",
       "  'display_phone': '(718) 596-6700',\n",
       "  'distance': 308.56984360837544}]"
      ]
     },
     "execution_count": 16,
     "metadata": {},
     "output_type": "execute_result"
    }
   ],
   "source": [
    "# Replace None with appropriate code\n",
    "\n",
    "# Retrieve the value from response_json\n",
    "businesses = response_json['businesses']\n",
    "\n",
    "# View the first 2 records\n",
    "businesses[:2]"
   ]
  },
  {
   "cell_type": "markdown",
   "metadata": {},
   "source": [
    "### Preparing Data\n",
    "\n",
    "Write a function `prepare_data` that takes in a list of dictionaries like `businesses` and returns a copy that has been prepared for analysis:\n",
    "\n",
    "1. The `coordinates` key-value pair has been converted into two separate key-value pairs, `latitude` and `longitude`\n",
    "2. All other key-value pairs except for `name`, `review_count`, `rating`, and `price` have been dropped\n",
    "3. All dictionaries missing one of the relevant keys or containing null values have been dropped\n",
    "\n",
    "In other words, the final keys for each dictionary should be `name`, `review_count`, `rating`, `price`, `latitude`, and `longitude`.\n",
    "\n",
    "Complete the function in the cell below:"
   ]
  },
  {
   "cell_type": "code",
   "execution_count": 30,
   "metadata": {},
   "outputs": [
    {
     "data": {
      "text/plain": [
       "[{'name': 'Prince Street Pizza',\n",
       "  'review_count': 4300,\n",
       "  'rating': 4.5,\n",
       "  'price': '$',\n",
       "  'latitude': 40.72308755605564,\n",
       "  'longitude': -73.99453001177575},\n",
       " {'name': \"Juliana's\",\n",
       "  'review_count': 2431,\n",
       "  'rating': 4.5,\n",
       "  'price': '$$',\n",
       "  'latitude': 40.70274718768062,\n",
       "  'longitude': -73.99343490196397},\n",
       " {'name': \"Lombardi's Pizza\",\n",
       "  'review_count': 6304,\n",
       "  'rating': 4.0,\n",
       "  'price': '$$',\n",
       "  'latitude': 40.7215934960083,\n",
       "  'longitude': -73.9955956044561},\n",
       " {'name': 'Lucali',\n",
       "  'review_count': 1786,\n",
       "  'rating': 4.0,\n",
       "  'price': '$$',\n",
       "  'latitude': 40.6818,\n",
       "  'longitude': -74.00024},\n",
       " {'name': 'Rubirosa',\n",
       "  'review_count': 2627,\n",
       "  'rating': 4.5,\n",
       "  'price': '$$',\n",
       "  'latitude': 40.722766,\n",
       "  'longitude': -73.996233}]"
      ]
     },
     "execution_count": 30,
     "metadata": {},
     "output_type": "execute_result"
    }
   ],
   "source": [
    "# Replace None with appropriate code\n",
    "\n",
    "def prepare_data(data_list):\n",
    "    \"\"\"\n",
    "    This function takes in a list of dictionaries and prepares it\n",
    "    for analysis\n",
    "    \"\"\"\n",
    "    \n",
    "    # Make a new list to hold results\n",
    "    results = []\n",
    "    \n",
    "    for business_data in data_list:\n",
    "    \n",
    "        # Make a new dictionary to hold prepared data for this business\n",
    "        prepared_data = {}\n",
    "        \n",
    "        # Extract name, review_count, rating, and price key-value pairs\n",
    "        # from business_data and add to prepared_data\n",
    "        # If a key is not present in business_data, add it to prepared_data\n",
    "        # with an associated value of None\n",
    "        for key in (\"name\", \"review_count\", \"rating\", \"price\"):\n",
    "            prepared_data[key] = business_data.get(key, None)\n",
    "            \n",
    "    \n",
    "        # Parse and add latitude and longitude columns\n",
    "        coordinates = business_data['coordinates']\n",
    "        prepared_data['latitude'] = coordinates['latitude']\n",
    "        prepared_data['longitude'] = coordinates['longitude']\n",
    "        \n",
    "        # Add to list if all values are present\n",
    "        if all(prepared_data.values()):\n",
    "            results.append(prepared_data)\n",
    "    \n",
    "    return results\n",
    "    \n",
    "# Test out function\n",
    "prepared_businesses = prepare_data(businesses)\n",
    "prepared_businesses[:5]"
   ]
  },
  {
   "cell_type": "markdown",
   "metadata": {},
   "source": [
    "Check that your function created the correct keys:"
   ]
  },
  {
   "cell_type": "code",
   "execution_count": 20,
   "metadata": {},
   "outputs": [],
   "source": [
    "# Run this cell without changes\n",
    "\n",
    "assert sorted(list(prepared_businesses[0].keys())) == ['latitude', 'longitude', 'name', 'price', 'rating', 'review_count']"
   ]
  },
  {
   "cell_type": "markdown",
   "metadata": {},
   "source": [
    "The following code will differ depending on your query, but we expect there to be 20 businesses in the original list, and potentially fewer in the prepared list (if any of them were missing data):"
   ]
  },
  {
   "cell_type": "code",
   "execution_count": 21,
   "metadata": {},
   "outputs": [
    {
     "name": "stdout",
     "output_type": "stream",
     "text": [
      "Original: 20\n",
      "Prepared: 20\n"
     ]
    }
   ],
   "source": [
    "# Run this cell without changes\n",
    "print(\"Original:\", len(businesses))\n",
    "print(\"Prepared:\", len(prepared_businesses))"
   ]
  },
  {
   "cell_type": "markdown",
   "metadata": {},
   "source": [
    "Great! We will reuse this function once we have retrieved the full dataset."
   ]
  },
  {
   "cell_type": "markdown",
   "metadata": {},
   "source": [
    "## 2. Add Pagination\n",
    "\n",
    "Now that you are able to extract information from one page of the response, let's figure out how to request as many pages as possible.\n",
    "\n",
    "### Determining the Total\n",
    "\n",
    "Depending on the number of total results for your query, you will either retrieve all of the results, or just the first 1000 (if there are more than 1000 total).\n",
    "\n",
    "We can find the total number of results using the `\"total\"` key:"
   ]
  },
  {
   "cell_type": "code",
   "execution_count": 4,
   "metadata": {},
   "outputs": [
    {
     "data": {
      "text/plain": [
       "12000"
      ]
     },
     "execution_count": 4,
     "metadata": {},
     "output_type": "execute_result"
    }
   ],
   "source": [
    "# Run this cell without changes\n",
    "response_json[\"total\"]"
   ]
  },
  {
   "cell_type": "markdown",
   "metadata": {},
   "source": [
    "(This is specific to the implementation of the Yelp API. Some APIs will just tell you that there are more pages, or will tell you the number of pages total, rather than the total number of results. If you're not sure, always check the documentation.)\n",
    "\n",
    "In the cell below, assign the variable `total` to either the value shown above (if it is less than 1000), or 1000."
   ]
  },
  {
   "cell_type": "code",
   "execution_count": 5,
   "metadata": {},
   "outputs": [],
   "source": [
    "# Replace None with appropriate code\n",
    "total = 1000"
   ]
  },
  {
   "cell_type": "markdown",
   "metadata": {},
   "source": [
    "### Calculating the Offsets\n",
    "\n",
    "The documentation states in the parameters section:\n",
    "\n",
    "> **Name**: `limit`, **Type:** int, **Description:** Optional. Number of business results to return. By default, it will return 20. Maximum is 50.\n",
    "\n",
    "> **Name**: `offset`, **Type:** int, **Description:** Optional. Offset the list of returned business results by this amount.\n",
    "\n",
    "So, to get the most results with the fewest API calls we want to set a limit of 50 every time. If, say, we wanted to get 210 total results, that would mean:\n",
    "\n",
    "1. Offset of `0` (first 50 records)\n",
    "2. Offset of `50` (second 50 records)\n",
    "3. Offset of `100` (third 50 records)\n",
    "4. Offset of `150` (fourth 50 records)\n",
    "5. Offset of `200` (final 10 records)\n",
    "\n",
    "In the cell below, create a function `get_offsets` that takes in a total and returns a list of offsets for that total. You can assume that there is a limit of 50 every time.\n",
    "\n",
    "*Hint: you can use `range` ([documentation here](https://docs.python.org/3.3/library/stdtypes.html?highlight=range#range)) to do this in one line of code. Just make the returned result is a list.*"
   ]
  },
  {
   "cell_type": "code",
   "execution_count": 23,
   "metadata": {},
   "outputs": [],
   "source": [
    "# Replace None with appropriate code\n",
    "def get_offsets(total):\n",
    "    \"\"\"\n",
    "    Get a list of offsets needed to get all pages\n",
    "    of data up until the total\n",
    "    \"\"\"\n",
    "    r = list(range(0, total, 50))\n",
    "    return r\n",
    "    "
   ]
  },
  {
   "cell_type": "code",
   "execution_count": 24,
   "metadata": {},
   "outputs": [
    {
     "data": {
      "text/plain": [
       "[0, 50, 100, 150]"
      ]
     },
     "execution_count": 24,
     "metadata": {},
     "output_type": "execute_result"
    }
   ],
   "source": [
    "get_offsets(200)"
   ]
  },
  {
   "cell_type": "markdown",
   "metadata": {},
   "source": [
    "Check that your function works below:"
   ]
  },
  {
   "cell_type": "code",
   "execution_count": 25,
   "metadata": {},
   "outputs": [],
   "source": [
    "# Run this cell without changes\n",
    "\n",
    "assert get_offsets(200) == [0, 50, 100, 150]\n",
    "assert get_offsets(210) == [0, 50, 100, 150, 200]"
   ]
  },
  {
   "cell_type": "markdown",
   "metadata": {},
   "source": [
    "### Putting It All Together\n",
    "\n",
    "Recall that the following variable has already been declared for you:"
   ]
  },
  {
   "cell_type": "code",
   "execution_count": 26,
   "metadata": {},
   "outputs": [
    {
     "data": {
      "text/plain": [
       "{'term': 'pizza', 'location': 'New+York+NY', 'limit': 50}"
      ]
     },
     "execution_count": 26,
     "metadata": {},
     "output_type": "execute_result"
    }
   ],
   "source": [
    "# Run this cell without changes\n",
    "url_params"
   ]
  },
  {
   "cell_type": "markdown",
   "metadata": {},
   "source": [
    "We'll go ahead and also specify that the limit should be 50 every time:"
   ]
  },
  {
   "cell_type": "code",
   "execution_count": 27,
   "metadata": {},
   "outputs": [],
   "source": [
    "# Run this cell without changes\n",
    "url_params[\"limit\"] = 50"
   ]
  },
  {
   "cell_type": "markdown",
   "metadata": {},
   "source": [
    "In order to modify the offset, you'll need to add it to `url_params` with the key `\"offset\"` and whatever value is needed.\n",
    "\n",
    "In the cell below, write code that:\n",
    "\n",
    "* Creates an empty list for the full prepared dataset\n",
    "* Loops over all of the offsets from `get_offsets` and makes an API call each time with the specified offset\n",
    "* Calls `prepare_data` to get a cleaned version of the result of each API call\n",
    "* Extends the full prepared dataset list with each query's prepared dataset"
   ]
  },
  {
   "cell_type": "code",
   "execution_count": 32,
   "metadata": {},
   "outputs": [
    {
     "data": {
      "text/plain": [
       "1000"
      ]
     },
     "execution_count": 32,
     "metadata": {},
     "output_type": "execute_result"
    }
   ],
   "source": [
    "# Replace None with appropriate code\n",
    "\n",
    "# Create an empty list for the full prepared dataset\n",
    "full_dataset = []\n",
    "\n",
    "for offset in get_offsets(total):\n",
    "    # Add or update the \"offset\" key-value pair in url_params\n",
    "    url_params['offset'] = offset\n",
    "    \n",
    "    # Make the query and get the response\n",
    "    response = requests.get(url, headers=headers, params=url_params)\n",
    "    \n",
    "    # Get the response body in JSON format\n",
    "    response_json = response.json()\n",
    "    \n",
    "    # Get the list of businesses from the response_json\n",
    "    businesses = response_json['businesses']\n",
    "    \n",
    "    # Call the prepare_data function to get a list of processed data\n",
    "    prepared_businesses = prepare_data(businesses)\n",
    "    \n",
    "    # Extend full_dataset with this list (don't append, or you'll get\n",
    "    # a list of lists instead of a flat list)\n",
    "    full_dataset.extend(prepared_businesses)\n",
    "\n",
    "# Check the length of the full dataset. It will be up to `total`,\n",
    "# potentially less if there were missing values\n",
    "len(full_dataset)"
   ]
  },
  {
   "cell_type": "markdown",
   "metadata": {},
   "source": [
    "This code may take up to a few minutes to run.\n",
    "\n",
    "If you get an error trying to get the response body in JSON format, try adding `time.sleep(1)` right after the `requests.get` line, so your code will sleep for 1 second between each API call."
   ]
  },
  {
   "cell_type": "markdown",
   "metadata": {},
   "source": [
    "## 3. Perform Exploratory Analysis\n",
    "\n",
    "Take the businesses from the previous question and do an initial exploratory analysis. We have provided some plots for you to interpret:"
   ]
  },
  {
   "cell_type": "code",
   "execution_count": 33,
   "metadata": {},
   "outputs": [
    {
     "data": {
      "image/png": "[encoded data removed]",
      "text/plain": [
       "<Figure size 1152x360 with 3 Axes>"
      ]
     },
     "metadata": {
      "needs_background": "light"
     },
     "output_type": "display_data"
    }
   ],
   "source": [
    "# Run this cell without changes\n",
    "from collections import Counter\n",
    "import matplotlib.pyplot as plt\n",
    "%matplotlib inline\n",
    "\n",
    "fig, (ax1, ax2, ax3) = plt.subplots(ncols=3, figsize=(16, 5))\n",
    "\n",
    "# Plot distribution of number of reviews\n",
    "all_review_counts = [x[\"review_count\"] for x in full_dataset]\n",
    "ax1.hist(all_review_counts)\n",
    "ax1.set_title(\"Review Count Distribution\")\n",
    "ax1.set_xlabel(\"Number of Reviews\")\n",
    "ax1.set_ylabel(\"Number of Businesses\")\n",
    "\n",
    "# Plot rating distribution\n",
    "all_ratings = [x[\"rating\"] for x in full_dataset]\n",
    "rating_counter = Counter(all_ratings)\n",
    "rating_keys = sorted(rating_counter.keys())\n",
    "ax2.bar(rating_keys, [rating_counter[key] for key in rating_keys])\n",
    "ax2.set_title(\"Rating Distribution\")\n",
    "ax2.set_xlabel(\"Rating\")\n",
    "ax2.set_ylabel(\"Number of Businesses\")\n",
    "\n",
    "# Plot price distribution\n",
    "all_prices = [x[\"price\"].replace(\"$\", r\"\\$\") for x in full_dataset]\n",
    "price_counter = Counter(all_prices)\n",
    "price_keys = sorted(price_counter.keys())\n",
    "ax3.bar(price_keys, [price_counter[key] for key in price_keys])\n",
    "ax3.set_title(\"Price Distribution\")\n",
    "ax3.set_xlabel(\"Price Category\")\n",
    "ax3.set_ylabel(\"Number of Businesses\");"
   ]
  },
  {
   "cell_type": "markdown",
   "metadata": {},
   "source": [
    "Describe the distributions displayed above and interpret them in the context of your query. (Your answer may differ from the solution branch depending on your query.)"
   ]
  },
  {
   "cell_type": "code",
   "execution_count": 36,
   "metadata": {},
   "outputs": [
    {
     "data": {
      "text/plain": [
       "'\\nThe highest number of reviews are below 2000.\\nMost businesses have a rating of 4 followed by 5.\\n'"
      ]
     },
     "execution_count": 36,
     "metadata": {},
     "output_type": "execute_result"
    }
   ],
   "source": [
    "# Replace None with appropriate text\n",
    "\"\"\"\n",
    "The highest number of reviews are below 2000.\n",
    "Most businesses have a rating of 4 followed by 5.\n",
    "\"\"\""
   ]
  },
  {
   "cell_type": "markdown",
   "metadata": {},
   "source": [
    "In the cell below, we also plot the rating distributions by price. In this setup, a price of one dollar sign is \"lower price\" and everything else is \"higher price\"."
   ]
  },
  {
   "cell_type": "code",
   "execution_count": 34,
   "metadata": {},
   "outputs": [
    {
     "data": {
      "image/png": "[encoded data removed]",
      "text/plain": [
       "<Figure size 432x288 with 1 Axes>"
      ]
     },
     "metadata": {
      "needs_background": "light"
     },
     "output_type": "display_data"
    }
   ],
   "source": [
    "# Run this cell without changes\n",
    "\n",
    "higher_price = []\n",
    "lower_price = []\n",
    "for row in full_dataset:\n",
    "    if row[\"price\"] == \"$\":\n",
    "        lower_price.append(row[\"rating\"])\n",
    "    else:\n",
    "        higher_price.append(row[\"rating\"])\n",
    "        \n",
    "fig, ax = plt.subplots()\n",
    "\n",
    "ax.hist([higher_price, lower_price], label=[\"higher price\", \"lower price\"], density=True)\n",
    "\n",
    "ax.legend();"
   ]
  },
  {
   "cell_type": "markdown",
   "metadata": {},
   "source": [
    "Is a higher price associated with a higher rating? (No need for any additional math/statistics, just interpret what you see in the plot.)"
   ]
  },
  {
   "cell_type": "code",
   "execution_count": 37,
   "metadata": {},
   "outputs": [
    {
     "data": {
      "text/plain": [
       "'\\nA higher price has a higher rating when its from 4.0 while a lower price has a higher rating when its from 3.5 and below.\\n'"
      ]
     },
     "execution_count": 37,
     "metadata": {},
     "output_type": "execute_result"
    }
   ],
   "source": [
    "# Replace None with appropriate text\n",
    "\"\"\"\n",
    "A higher price has a higher rating when its from 4.0 while a lower price has a higher rating when its from 3.5 and below.\n",
    "\"\"\""
   ]
  },
  {
   "cell_type": "markdown",
   "metadata": {},
   "source": [
    "Finally, let's look at ratings vs. review counts:"
   ]
  },
  {
   "cell_type": "code",
   "execution_count": 35,
   "metadata": {},
   "outputs": [
    {
     "data": {
      "image/png": "[encoded data removed]",
      "text/plain": [
       "<Figure size 1152x360 with 1 Axes>"
      ]
     },
     "metadata": {
      "needs_background": "light"
     },
     "output_type": "display_data"
    }
   ],
   "source": [
    "# Run this cell without changes\n",
    "fig, ax = plt.subplots(figsize=(16,5))\n",
    "\n",
    "ax.scatter(all_review_counts, all_ratings, alpha=0.2)\n",
    "ax.set_xlabel(\"Number of Reviews\")\n",
    "ax.set_ylabel(\"Rating\")\n",
    "# \"zoom in\" to a subset of review counts\n",
    "ax.set_xlim(left=0, right=1000);"
   ]
  },
  {
   "cell_type": "markdown",
   "metadata": {},
   "source": [
    "Is a higher number of reviews associated with a higher rating?"
   ]
  },
  {
   "cell_type": "code",
   "execution_count": null,
   "metadata": {},
   "outputs": [],
   "source": [
    "# Replace None with appropriate text\n",
    "\"\"\"\n",
    "Not necessarily.\n",
    "\"\"\""
   ]
  },
  {
   "cell_type": "code",
   "execution_count": 41,
   "metadata": {},
   "outputs": [
    {
     "data": {
      "text/plain": [
       "40.72308755605564"
      ]
     },
     "execution_count": 41,
     "metadata": {},
     "output_type": "execute_result"
    }
   ],
   "source": [
    "center_lat = full_dataset[0]['latitude']\n",
    "center_lat"
   ]
  },
  {
   "cell_type": "markdown",
   "metadata": {},
   "source": [
    "## 4. Create a Folium Map\n",
    "\n",
    "Make a map using Folium of the businesses you retrieved. Be sure to also add popups to the markers giving some basic information such as name, rating and price.\n",
    "\n",
    "You can center the map around the latitude and longitude of the first item in `full_dataset`."
   ]
  },
  {
   "cell_type": "code",
   "execution_count": 49,
   "metadata": {},
   "outputs": [
    {
     "data": {
      "text/html": [
       "<div style=\"width:100%;\"><div style=\"position:relative;width:100%;height:0;padding-bottom:60%;\"><span style=\"color:#565656\">Make this Notebook Trusted to load map: File -> Trust Notebook</span><iframe src=\"about:blank\" style=\"position:absolute;width:100%;height:100%;left:0;top:0;border:none !important;\" data-html=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 onload=\"this.contentDocument.open();this.contentDocument.write(atob(this.getAttribute('data-html')));this.contentDocument.close();\" allowfullscreen webkitallowfullscreen mozallowfullscreen></iframe></div></div>"
      ],
      "text/plain": [
       "<folium.folium.Map at 0x1915a0e2dc0>"
      ]
     },
     "execution_count": 49,
     "metadata": {},
     "output_type": "execute_result"
    }
   ],
   "source": [
    "# Replace None with appropriate code\n",
    "\n",
    "# Import the library\n",
    "import folium\n",
    "\n",
    "# Set up center latitude and longitude\n",
    "center_lat = full_dataset[0]['latitude']\n",
    "center_long = full_dataset[0]['longitude']\n",
    "\n",
    "# Initialize map with center lat and long\n",
    "yelp_map = folium.Map([center_lat, center_long], zoom_start=13)\n",
    "\n",
    "# Adjust this limit to see more or fewer businesses\n",
    "limit=50\n",
    "\n",
    "for business in full_dataset[:limit]:\n",
    "    # Extract information about business\n",
    "    lat = business['latitude']\n",
    "    long = business['longitude']\n",
    "    name = business['name']\n",
    "    rating = business['rating']\n",
    "    price = business['price']\n",
    "    details = \"{}\\nPrice: {} Rating:{}\".format(name,price,rating)\n",
    "    \n",
    "    # Create popup with relevant details\n",
    "    popup = folium.Popup(details)\n",
    "    \n",
    "    # Create marker with relevant lat/long and popup\n",
    "    marker = folium.Marker([lat,long], popup=popup)\n",
    "    \n",
    "    marker.add_to(yelp_map)\n",
    "    \n",
    "yelp_map"
   ]
  },
  {
   "cell_type": "markdown",
   "metadata": {},
   "source": [
    "## Summary\n",
    "\n",
    "Nice work! In this lab, you've made multiple API calls to Yelp in order to paginate through a results set, performing some basic exploratory analysis and then creating a nice interactive map to display the results using Folium! Well done!"
   ]
  }
 ],
 "metadata": {
  "kernelspec": {
   "display_name": "Python 3",
   "language": "python",
   "name": "python3"
  },
  "language_info": {
   "codemirror_mode": {
    "name": "ipython",
    "version": 3
   },
   "file_extension": ".py",
   "mimetype": "text/x-python",
   "name": "python",
   "nbconvert_exporter": "python",
   "pygments_lexer": "ipython3",
   "version": "3.8.5"
  },
  "toc": {
   "base_numbering": 1,
   "nav_menu": {},
   "number_sections": true,
   "sideBar": true,
   "skip_h1_title": false,
   "title_cell": "Table of Contents",
   "title_sidebar": "Contents",
   "toc_cell": false,
   "toc_position": {},
   "toc_section_display": true,
   "toc_window_display": false
  }
 },
 "nbformat": 4,
 "nbformat_minor": 2
}
